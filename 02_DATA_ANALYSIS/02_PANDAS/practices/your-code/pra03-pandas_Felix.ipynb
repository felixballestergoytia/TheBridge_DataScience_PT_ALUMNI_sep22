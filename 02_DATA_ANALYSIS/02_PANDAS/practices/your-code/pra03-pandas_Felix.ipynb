{
 "cells": [
  {
   "cell_type": "markdown",
   "metadata": {},
   "source": [
    "# Programación 201"
   ]
  },
  {
   "cell_type": "markdown",
   "metadata": {},
   "source": [
    "Librerías científicas en Python: `Pandas`\n",
    "------------------------------------------------------"
   ]
  },
  {
   "cell_type": "markdown",
   "metadata": {},
   "source": [
    "### Ejercicio 1\n",
    "\n",
    "Cargad los datos del fichero _got.csv_ en un _dataframe_. Este conjunto de datos recoge información de la [Guerra de los Cinco Reyes](https://awoiaf.westeros.org/index.php/War_of_the_Five_Kings) de las novelas de [Cancion de Hielo y Fuego](https://es.wikipedia.org/wiki/Canci%C3%B3n_de_hielo_y_fuego) de George R.R Martin.\n",
    "\n",
    "Mostrad el número de filas del _dataframe_ y las etiquetas de los ejes."
   ]
  },
  {
   "cell_type": "code",
   "execution_count": 41,
   "metadata": {},
   "outputs": [
    {
     "name": "stdout",
     "output_type": "stream",
     "text": [
      "Número de filas: 38. Número de columnas: 25\n",
      "Las columnas están formadas por: Index(['name', 'year', 'battle_number', 'attacker_king', 'defender_king',\n",
      "       'attacker_1', 'attacker_2', 'attacker_3', 'attacker_4', 'defender_1',\n",
      "       'defender_2', 'defender_3', 'defender_4', 'attacker_outcome',\n",
      "       'battle_type', 'major_death', 'major_capture', 'attacker_size',\n",
      "       'defender_size', 'attacker_commander', 'defender_commander', 'summer',\n",
      "       'location', 'region', 'note'],\n",
      "      dtype='object')\n"
     ]
    },
    {
     "data": {
      "text/plain": [
       "array(['win', 'win', 'win', 'loss', 'win', 'win', 'win', 'win', 'win',\n",
       "       'win', 'win', 'win', 'win', 'win', 'win', 'win', 'loss', 'win',\n",
       "       'win', 'loss', 'win', 'loss', 'win', 'win', 'win', 'win', 'win',\n",
       "       'loss', 'win', 'win', 'win', 'win', 'win', 'win', 'win', 'win',\n",
       "       'win', nan], dtype=object)"
      ]
     },
     "execution_count": 41,
     "metadata": {},
     "output_type": "execute_result"
    }
   ],
   "source": [
    "# Respuesta\n",
    "import pandas as pd\n",
    "\n",
    "got=pd.DataFrame(pd.read_csv('../../dataset/got.csv'))\n",
    "got.shape # para mostrar número de filas y columnas\n",
    "\n",
    "filas = len(got.axes[0]) \n",
    "columnas = len(got.axes[1]) \n",
    "  \n",
    "print(\"Número de filas: \" + str(filas) + \". Número de columnas: \" + str(columnas)) \n",
    "print(\"Las columnas están formadas por: \" + str(got.columns))\n"
   ]
  },
  {
   "cell_type": "markdown",
   "metadata": {},
   "source": [
    "### Ejercicio 2\n",
    "\n",
    "Agrupad los datos cargados en el ejercicio 1 por el principal bando atacante (*attacker\\_1*). Para cada posición, mostrad el número de batallas y el resultado de la batalla (el resultado se encuentra en el campo *attacker\\_outcome*)."
   ]
  },
  {
   "cell_type": "code",
   "execution_count": 48,
   "metadata": {},
   "outputs": [
    {
     "name": "stdout",
     "output_type": "stream",
     "text": [
      "Battalas de Baratheon fueron 6\n",
      "Battalas de Bolton fueron 2\n",
      "Battalas de Bracken fueron 1\n",
      "Battalas de Brave Companions fueron 1\n",
      "Battalas de Brotherhood without Banners fueron 1\n",
      "Battalas de Darry fueron 1\n",
      "Battalas de Free folk fueron 1\n",
      "Battalas de Frey fueron 2\n",
      "Battalas de Greyjoy fueron 7\n",
      "Battalas de Lannister fueron 8\n",
      "Battalas de Stark fueron 8\n",
      "Battalas de Baratheon fueron 6 de los cuales 4 fueron victorias\n",
      "Battalas de Bolton fueron 2 de los cuales 2 fueron victorias\n",
      "Battalas de Bracken fueron 1 de los cuales 1 fueron victorias\n",
      "Battalas de Brave Companions fueron 1 de los cuales 1 fueron victorias\n",
      "Battalas de Brotherhood without Banners fueron 1 de los cuales 1 fueron victorias\n",
      "Battalas de Darry fueron 1 de los cuales 1 fueron victorias\n",
      "Battalas de Free folk fueron 1 de los cuales 0 fueron victorias\n",
      "Battalas de Frey fueron 2 de los cuales 2 fueron victorias\n",
      "Battalas de Greyjoy fueron 7 de los cuales 7 fueron victorias\n",
      "Battalas de Lannister fueron 8 de los cuales 7 fueron victorias\n",
      "Battalas de Stark fueron 8 de los cuales 6 fueron victorias\n"
     ]
    }
   ],
   "source": [
    "# Respuesta\n",
    "got.head()\n",
    "attack = got.groupby('attacker_1') # Agrupo\n",
    "\n",
    "attack['attacker_outcome'].count() # Sumo por atacante\n",
    "\n",
    "attack['attacker_outcome'].value_counts() # Cuento los diferentes valores de la columna\n",
    "\n",
    "for (attacker, battles) in got.groupby('attacker_1'):\n",
    "    print(f\"Battalas de {attacker} fueron {len(battles)}\")\n",
    "\n",
    "for (attacker, battles) in got.groupby('attacker_1'):\n",
    "    print(f\"Battalas de {attacker} fueron {len(battles)} de los cuales {len(battles[(battles.attacker_outcome =='win')])} fueron victorias\")\n"
   ]
  },
  {
   "cell_type": "code",
   "execution_count": 17,
   "metadata": {},
   "outputs": [
    {
     "data": {
      "text/plain": [
       "0      win\n",
       "1      win\n",
       "2      win\n",
       "3     loss\n",
       "4      win\n",
       "5      win\n",
       "6      win\n",
       "7      win\n",
       "8      win\n",
       "9      win\n",
       "10     win\n",
       "11     win\n",
       "12     win\n",
       "13     win\n",
       "14     win\n",
       "15     win\n",
       "16    loss\n",
       "17     win\n",
       "18     win\n",
       "19    loss\n",
       "20     win\n",
       "21    loss\n",
       "22     win\n",
       "23     win\n",
       "24     win\n",
       "25     win\n",
       "26     win\n",
       "27    loss\n",
       "28     win\n",
       "29     win\n",
       "30     win\n",
       "31     win\n",
       "32     win\n",
       "33     win\n",
       "34     win\n",
       "35     win\n",
       "36     win\n",
       "37     NaN\n",
       "Name: attacker_outcome, dtype: object"
      ]
     },
     "execution_count": 17,
     "metadata": {},
     "output_type": "execute_result"
    }
   ],
   "source": [
    "got['attacker_outcome']"
   ]
  },
  {
   "cell_type": "markdown",
   "metadata": {},
   "source": [
    "### Ejercicio 3\n",
    "\n",
    "Mostrad los datos de las batallas donde el numero de participantes supera los 15000 \"hombres\" (contando ambos bandos: *attacker\\_size* y *defender\\_size*), el resultado haya sido favorable para el atacante, y la batalla se haya producido en invierno (_summer=0_)."
   ]
  },
  {
   "cell_type": "code",
   "execution_count": 51,
   "metadata": {},
   "outputs": [
    {
     "data": {
      "text/html": [
       "<div>\n",
       "<style scoped>\n",
       "    .dataframe tbody tr th:only-of-type {\n",
       "        vertical-align: middle;\n",
       "    }\n",
       "\n",
       "    .dataframe tbody tr th {\n",
       "        vertical-align: top;\n",
       "    }\n",
       "\n",
       "    .dataframe thead th {\n",
       "        text-align: right;\n",
       "    }\n",
       "</style>\n",
       "<table border=\"1\" class=\"dataframe\">\n",
       "  <thead>\n",
       "    <tr style=\"text-align: right;\">\n",
       "      <th></th>\n",
       "      <th>name</th>\n",
       "      <th>year</th>\n",
       "      <th>battle_number</th>\n",
       "      <th>attacker_king</th>\n",
       "      <th>defender_king</th>\n",
       "      <th>attacker_1</th>\n",
       "      <th>attacker_2</th>\n",
       "      <th>attacker_3</th>\n",
       "      <th>attacker_4</th>\n",
       "      <th>defender_1</th>\n",
       "      <th>...</th>\n",
       "      <th>major_death</th>\n",
       "      <th>major_capture</th>\n",
       "      <th>attacker_size</th>\n",
       "      <th>defender_size</th>\n",
       "      <th>attacker_commander</th>\n",
       "      <th>defender_commander</th>\n",
       "      <th>summer</th>\n",
       "      <th>location</th>\n",
       "      <th>region</th>\n",
       "      <th>note</th>\n",
       "    </tr>\n",
       "  </thead>\n",
       "  <tbody>\n",
       "    <tr>\n",
       "      <th>30</th>\n",
       "      <td>Retaking of Deepwood Motte</td>\n",
       "      <td>300</td>\n",
       "      <td>31</td>\n",
       "      <td>Stannis Baratheon</td>\n",
       "      <td>Balon/Euron Greyjoy</td>\n",
       "      <td>Baratheon</td>\n",
       "      <td>Karstark</td>\n",
       "      <td>Mormont</td>\n",
       "      <td>Glover</td>\n",
       "      <td>Greyjoy</td>\n",
       "      <td>...</td>\n",
       "      <td>0.0</td>\n",
       "      <td>0.0</td>\n",
       "      <td>4500.0</td>\n",
       "      <td>200.0</td>\n",
       "      <td>Stannis Baratheon, Alysane Mormot</td>\n",
       "      <td>Asha Greyjoy</td>\n",
       "      <td>0.0</td>\n",
       "      <td>Deepwood Motte</td>\n",
       "      <td>The North</td>\n",
       "      <td>NaN</td>\n",
       "    </tr>\n",
       "  </tbody>\n",
       "</table>\n",
       "<p>1 rows × 25 columns</p>\n",
       "</div>"
      ],
      "text/plain": [
       "                          name  year  battle_number      attacker_king  \\\n",
       "30  Retaking of Deepwood Motte   300             31  Stannis Baratheon   \n",
       "\n",
       "          defender_king attacker_1 attacker_2 attacker_3 attacker_4  \\\n",
       "30  Balon/Euron Greyjoy  Baratheon   Karstark    Mormont     Glover   \n",
       "\n",
       "   defender_1  ... major_death  major_capture  attacker_size defender_size  \\\n",
       "30    Greyjoy  ...         0.0            0.0         4500.0         200.0   \n",
       "\n",
       "                   attacker_commander  defender_commander  summer  \\\n",
       "30  Stannis Baratheon, Alysane Mormot        Asha Greyjoy     0.0   \n",
       "\n",
       "          location     region note  \n",
       "30  Deepwood Motte  The North  NaN  \n",
       "\n",
       "[1 rows x 25 columns]"
      ]
     },
     "execution_count": 51,
     "metadata": {},
     "output_type": "execute_result"
    }
   ],
   "source": [
    "# Respuesta\n",
    "got.apply(lambda x: (x['attacker_size']+x['defender_size']) > 1500 and x['attacker_outcome']== 'win' and x['summer']==0.0, axis=1).sum()\n",
    "\n",
    "got[((got.attacker_size+got.defender_size) > 1500) & (got.attacker_outcome=='win') & (got.summer == 0)]\n"
   ]
  },
  {
   "cell_type": "markdown",
   "metadata": {},
   "source": [
    "### Ejercicio 4\n",
    "\n",
    "Contad el número de lugares que aparecen más de una vez en _dataframe_ (campo _location_), utilizando las funciones de la librería _pandas_. ¿Existe algún lugar donde se haya realizado más de una batalla? Comprobad qué bandos estaban implicados."
   ]
  },
  {
   "cell_type": "code",
   "execution_count": 57,
   "metadata": {},
   "outputs": [
    {
     "name": "stdout",
     "output_type": "stream",
     "text": [
      "los lugares son: ['Riverrun' 'Darry' 'Moat Cailin' 'Deepwood Motte' \"Torrhen's Square\"\n",
      " 'Winterfell' \"Storm's End\" 'Harrenhal']\n",
      "Totales son: 8\n"
     ]
    },
    {
     "ename": "AttributeError",
     "evalue": "'list' object has no attribute 'sort_values'",
     "output_type": "error",
     "traceback": [
      "\u001b[0;31m---------------------------------------------------------------------------\u001b[0m",
      "\u001b[0;31mAttributeError\u001b[0m                            Traceback (most recent call last)",
      "Cell \u001b[0;32mIn [57], line 13\u001b[0m\n\u001b[1;32m     10\u001b[0m \u001b[39m# Bandos implicados\u001b[39;00m\n\u001b[1;32m     11\u001b[0m sides \u001b[39m=\u001b[39m [\u001b[39m'\u001b[39m\u001b[39mattacker_1\u001b[39m\u001b[39m'\u001b[39m, \u001b[39m'\u001b[39m\u001b[39mattacker_2\u001b[39m\u001b[39m'\u001b[39m, \u001b[39m'\u001b[39m\u001b[39mattacker_3\u001b[39m\u001b[39m'\u001b[39m, \u001b[39m'\u001b[39m\u001b[39mattacker_4\u001b[39m\u001b[39m'\u001b[39m, \u001b[39m'\u001b[39m\u001b[39mdefender_1\u001b[39m\u001b[39m'\u001b[39m, \u001b[39m'\u001b[39m\u001b[39mdefender_2\u001b[39m\u001b[39m'\u001b[39m, \u001b[39m'\u001b[39m\u001b[39mdefender_3\u001b[39m\u001b[39m'\u001b[39m, \u001b[39m'\u001b[39m\u001b[39mdefender_4\u001b[39m\u001b[39m'\u001b[39m]\n\u001b[0;32m---> 13\u001b[0m got[duplicated_rows][[sides]\u001b[39m.\u001b[39msort_values(by\u001b[39m=\u001b[39m[\u001b[39m'\u001b[39m\u001b[39mlocation\u001b[39m\u001b[39m'\u001b[39m])]\n",
      "\u001b[0;31mAttributeError\u001b[0m: 'list' object has no attribute 'sort_values'"
     ]
    }
   ],
   "source": [
    "# Respuesta\n",
    "duplicated_rows = got.duplicated(['location'], keep=False)\n",
    "\n",
    "got[duplicated_rows]['location']\n",
    "\n",
    "unique_loc = got[duplicated_rows]['location'].unique()\n",
    "print(f\"los lugares son: {unique_loc}\")\n",
    "print(f\"Totales son: {len(unique_loc)}\")\n",
    "\n",
    "# Bandos implicados\n",
    "sides = ['attacker_1', 'attacker_2', 'attacker_3', 'attacker_4', 'defender_1', 'defender_2', 'defender_3', 'defender_4']\n",
    "\n",
    "got[duplicated_rows][[sides].sort_values(by=['location'])]\n",
    "\n",
    "\n",
    "# Juanma\n",
    "# df.loc[df[['location']].duplicated(keep=False),\n",
    "# ['location','attacker_1', 'attacker_2', 'attacker_3', 'attacker_4', 'defender_1', 'defender_2', 'defender_3', 'defender_4']]"
   ]
  },
  {
   "cell_type": "markdown",
   "metadata": {},
   "source": [
    "### Ejercicio 5\n",
    "\n",
    "Añadid una nueva columna al _dataframe_ con un valor booleano indicando una predicción básica de si en una cierta batalla el bando atacante será vencedor. Definiremos el valor como _True_ sí el bando atacante es mayor al defensor, y como _False_ en caso contrario. Definid como _NaN_ aquellos casos en los que no haya número de tropas en ningún bando. ¿En que casos, identificados por el número de batalla (*battle\\_number*), nuestra predicción coincide con el resultado real?"
   ]
  },
  {
   "cell_type": "code",
   "execution_count": 58,
   "metadata": {},
   "outputs": [
    {
     "ename": "ValueError",
     "evalue": "The truth value of a Series is ambiguous. Use a.empty, a.bool(), a.item(), a.any() or a.all().",
     "output_type": "error",
     "traceback": [
      "\u001b[0;31m---------------------------------------------------------------------------\u001b[0m",
      "\u001b[0;31mValueError\u001b[0m                                Traceback (most recent call last)",
      "Cell \u001b[0;32mIn [58], line 9\u001b[0m\n\u001b[1;32m      5\u001b[0m \u001b[39m# Para poder asignar un valor en función de una condición hay que usar lambda\u001b[39;00m\n\u001b[1;32m      6\u001b[0m \u001b[39m# lambda <arg> : <return value if condition is True> if <condition> else <return value if condition is False>\u001b[39;00m\n\u001b[1;32m      8\u001b[0m got_predic \u001b[39m=\u001b[39m got\u001b[39m.\u001b[39massign(predic\u001b[39m=\u001b[39m\u001b[39mlambda\u001b[39;00m x : x\u001b[39m.\u001b[39mattacker_size \u001b[39m>\u001b[39m x\u001b[39m.\u001b[39mdefender_size)\n\u001b[0;32m----> 9\u001b[0m got_predic\u001b[39m.\u001b[39mloc[(got_predic[\u001b[39m'\u001b[39m\u001b[39mattacker_size\u001b[39m\u001b[39m'\u001b[39m]) \u001b[39m==\u001b[39m \u001b[39m0\u001b[39m \u001b[39mand\u001b[39;00m (got_predic[\u001b[39m'\u001b[39m\u001b[39mdefender_size\u001b[39m\u001b[39m'\u001b[39m] \u001b[39m==\u001b[39m \u001b[39m0\u001b[39m), \u001b[39m'\u001b[39m\u001b[39mprediccion\u001b[39m\u001b[39m'\u001b[39m] \u001b[39m=\u001b[39m \u001b[39m'\u001b[39m\u001b[39mNaN\u001b[39m\u001b[39m'\u001b[39m\n",
      "File \u001b[0;32m~/.local/lib/python3.9/site-packages/pandas/core/generic.py:1527\u001b[0m, in \u001b[0;36mNDFrame.__nonzero__\u001b[0;34m(self)\u001b[0m\n\u001b[1;32m   1525\u001b[0m \u001b[39m@final\u001b[39m\n\u001b[1;32m   1526\u001b[0m \u001b[39mdef\u001b[39;00m \u001b[39m__nonzero__\u001b[39m(\u001b[39mself\u001b[39m) \u001b[39m-\u001b[39m\u001b[39m>\u001b[39m NoReturn:\n\u001b[0;32m-> 1527\u001b[0m     \u001b[39mraise\u001b[39;00m \u001b[39mValueError\u001b[39;00m(\n\u001b[1;32m   1528\u001b[0m         \u001b[39mf\u001b[39m\u001b[39m\"\u001b[39m\u001b[39mThe truth value of a \u001b[39m\u001b[39m{\u001b[39;00m\u001b[39mtype\u001b[39m(\u001b[39mself\u001b[39m)\u001b[39m.\u001b[39m\u001b[39m__name__\u001b[39m\u001b[39m}\u001b[39;00m\u001b[39m is ambiguous. \u001b[39m\u001b[39m\"\u001b[39m\n\u001b[1;32m   1529\u001b[0m         \u001b[39m\"\u001b[39m\u001b[39mUse a.empty, a.bool(), a.item(), a.any() or a.all().\u001b[39m\u001b[39m\"\u001b[39m\n\u001b[1;32m   1530\u001b[0m     )\n",
      "\u001b[0;31mValueError\u001b[0m: The truth value of a Series is ambiguous. Use a.empty, a.bool(), a.item(), a.any() or a.all()."
     ]
    }
   ],
   "source": [
    "# Respuesta\n",
    "# Creamos nueva columna\n",
    "got['Nueva_col'] = 0\n",
    "\n",
    "# Para poder asignar un valor en función de una condición hay que usar lambda\n",
    "# lambda <arg> : <return value if condition is True> if <condition> else <return value if condition is False>\n",
    "\n",
    "got_predic = got.assign(predic=lambda x : x.attacker_size > x.defender_size)\n",
    "got_predic.loc[(got_predic['attacker_size']) == 0 and (got_predic['defender_size'] == 0), 'prediccion'] = 'NaN'"
   ]
  }
 ],
 "metadata": {
  "kernelspec": {
   "display_name": "Python 3.9.13 ('ramup_py39')",
   "language": "python",
   "name": "python3"
  },
  "language_info": {
   "codemirror_mode": {
    "name": "ipython",
    "version": 3
   },
   "file_extension": ".py",
   "mimetype": "text/x-python",
   "name": "python",
   "nbconvert_exporter": "python",
   "pygments_lexer": "ipython3",
   "version": "3.9.13"
  },
  "vscode": {
   "interpreter": {
    "hash": "9177f5daf078ab1e95e33a657321734599725505f28e111f642d0c1264527fb4"
   }
  }
 },
 "nbformat": 4,
 "nbformat_minor": 4
}
