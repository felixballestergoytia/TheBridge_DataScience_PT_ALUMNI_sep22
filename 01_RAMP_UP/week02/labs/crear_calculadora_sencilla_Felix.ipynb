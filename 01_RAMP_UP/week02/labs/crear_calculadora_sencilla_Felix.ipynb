{
  "cells": [
    {
      "cell_type": "markdown",
      "metadata": {
        "id": "MJFXpot9_MLX"
      },
      "source": [
        "***\n",
        "## Vamos con el laboratorio 3\n",
        "\n",
        "Parte 1 - Crear una calculadora sencilla sin definir funciones\n",
        "\n",
        "***\n",
        "### lab 3 - Crear una calculadora **sencilla** sin definir funciones - parte 1\n",
        "\n",
        "Cree una calculadora sencilla que acepte un primer número, una operación y un segundo número.\n",
        "\n",
        "Este es un resultado de ejemplo, en el que un usuario ha escrito *4*, *** y *5* en los cuadros de entrada:\n",
        "\n",
        "\n",
        "```output\n",
        "Simple calculator!\n",
        "First number? 4\n",
        "Operation? *\n",
        "Second number? 5\n",
        "product of 4 * 5 equals 20\n",
        "```\n",
        "\n",
        "El programa debe aceptar un símbolo, como el símbolo de asterisco (*), para realizar una multiplicación y generar un producto. Asegúrese de implementar lógica para estos resultados:\n",
        "\n",
        "- Suma (+)\n",
        "- Resta (-)\n",
        "- Multiplicación (*)\n",
        "- Cociente (/)\n",
        "- Exponente (//)\n",
        "- Módulo (%)\n",
        "\n",
        "Si el usuario no escribe un valor numérico, muestre este mensaje:\n",
        "\n",
        "\n",
        "```output\n",
        "Please input a number.\n",
        "```\n",
        "\n",
        "Si el usuario escribe una operación que no se reconoce, muestre este mensaje:\n",
        "\n",
        "\n",
        "```output\n",
        "Operation not recognized.\n",
        "```\n",
        "\n",
        "Tanto si tiene dificultades y necesita echar un vistazo a la solución como si finaliza el ejercicio correctamente, continúe para ver una solución a este desafío."
      ]
    },
    {
      "cell_type": "markdown",
      "metadata": {
        "id": "y3c76u0D_Qho"
      },
      "source": [
        "#### PSEUDOCODIGO\n",
        "\n",
        "Declaramos dos valores de entrada\n",
        "```\n",
        "a (input)\n",
        "b (input)\n",
        "```\n",
        "\n",
        "Declarar el tipo de operación a realizar\n",
        "```\n",
        "operacion (input)\n",
        "```\n",
        "\n",
        "Creamos una variable con una lista de operadores\n",
        "```\n",
        "operadores = [\"+\", \"-\", \"*\", \"/\", \"//\", \"%\" ]\n",
        "```\n",
        "\n",
        "Declaramos la condición de evaluación\n",
        "SI el operador no se encuentra en la lista de Operadores\n",
        "`` \n",
        "print (Operación no reconocida)\n",
        "```\n",
        "\n",
        "ELSE\n",
        "\n",
        "SI el operacion es \"+\"\n",
        "ELSE RESULTADO a+b\n",
        "\n",
        "SI EL operacion es \"-\"\n",
        "ELSE RESULTADO a-b\n",
        "\n",
        "\n",
        "... así para el resto de operadores\n",
        "\n",
        "print(resultado)\n",
        "```"
      ]
    },
    {
      "cell_type": "code",
      "execution_count": 1,
      "metadata": {
        "id": "KpL-j1GI_RWm"
      },
      "outputs": [
        {
          "name": "stdout",
          "output_type": "stream",
          "text": [
            "La multiplicación de 5 y 6 es:  30\n"
          ]
        }
      ],
      "source": [
        "# Variables\n",
        "operadores = [\"+\", \"-\", \"*\", \"/\", \"//\", \"%\" ]\n",
        "\n",
        "# Programa\n",
        "\n",
        "a=input(\"Por favor, introduzca el primer elemento numérico\")\n",
        "ok_a = a.isnumeric()\n",
        "if ok_a:\n",
        "    a=int(a)\n",
        "b=input(\"Por favor, introduzca el segundo elemento numérico\")\n",
        "ok_b = b.isnumeric()\n",
        "if ok_b:\n",
        "    b=int(b)\n",
        "op=input(\"Por favor, introduzca el operador (Operadores válidos: +, -, *, /, //, %) \")\n",
        "if ok_a and ok_b:\n",
        "    if op in operadores:\n",
        "        if op==\"+\":\n",
        "            x=a+b\n",
        "            print(f\"La suma de {a} y {b} es: \", x)\n",
        "        elif op==\"-\":\n",
        "            x=a-b\n",
        "            print(f\"La resta de {a} y {b} es: \", x)\n",
        "        elif op==\"*\":\n",
        "            x=a*b\n",
        "            print(f\"La multiplicación de {a} y {b} es: \", x)\n",
        "        elif op==\"/\":\n",
        "            x=a/b\n",
        "            print(f\"La división de {a} y {b} es: \", x)\n",
        "        elif op==\"//\":\n",
        "            x=a//b\n",
        "            print(f\"La XXX de {a} y {b} es: \", x)\n",
        "        elif op==\"%\":\n",
        "            x=a%b\n",
        "            print(f\"El módulo de {a} y {b} es: \", x)\n",
        "        else:\n",
        "            print(\"Error en la operación\")\n",
        "    else:\n",
        "        print(\"Operation not recognized.\")\n",
        "else:\n",
        "    print(\"Please input a number\")"
      ]
    },
    {
      "cell_type": "markdown",
      "metadata": {},
      "source": [
        "***\n",
        "## Laboratorio 3\n",
        "\n",
        "Parte 2 - Refactorizar el código (mejora de los procesos con nuevas funciones nativas de python)\n",
        "\n",
        "***"
      ]
    },
    {
      "cell_type": "code",
      "execution_count": 19,
      "metadata": {},
      "outputs": [
        {
          "data": {
            "text/plain": [
              "0.8333333333333334"
            ]
          },
          "execution_count": 19,
          "metadata": {},
          "output_type": "execute_result"
        }
      ],
      "source": [
        "def calculadora(a,b,oper):\n",
        "    operadores = [\"+\", \"-\", \"*\", \"/\", \"//\", \"%\" ] \n",
        "    if (type(a)== int or type(a)== float) and (type(b)== int or type(b)== float):\n",
        "        if oper in operadores:\n",
        "            if oper==\"+\":\n",
        "                x=a+b\n",
        "                return(x)\n",
        "            elif oper==\"-\":\n",
        "                x=a-b\n",
        "                return(x)\n",
        "            elif oper==\"*\":\n",
        "                x=a*b\n",
        "                return(x)\n",
        "            elif oper==\"/\":\n",
        "                x=a/b\n",
        "                return(x)\n",
        "            elif oper==\"//\":\n",
        "                x=a//b\n",
        "                return(x)\n",
        "            elif oper==\"%\":\n",
        "                x=a%b\n",
        "                return(x)\n",
        "            else:\n",
        "                return(\"Error en la operación\")\n",
        "        else:\n",
        "            return(\"Operador inválido (Operadores válidos: +, -, *, /, //, %) \")\n",
        "    else:\n",
        "        return(\"No introdujo números\")\n",
        "\n",
        "calculadora(5,6,\"/\")"
      ]
    },
    {
      "cell_type": "markdown",
      "metadata": {},
      "source": [
        "***\n",
        "## Laboratorio 3\n",
        "\n",
        "Parte 3 - Definir una/unas funciones para mejorar la calculadora teniendo en cuenta eventuales errores\n",
        "\n",
        "***"
      ]
    },
    {
      "cell_type": "code",
      "execution_count": 20,
      "metadata": {},
      "outputs": [
        {
          "data": {
            "text/plain": [
              "'Error en la operación'"
            ]
          },
          "execution_count": 20,
          "metadata": {},
          "output_type": "execute_result"
        }
      ],
      "source": [
        "def calculadora(a,b,oper):\n",
        "    operadores = [\"+\", \"-\", \"*\", \"/\", \"//\", \"%\" ] \n",
        "    if (type(a)== int or type(a)== float) and (type(b)== int or type(b)== float):\n",
        "        if oper in operadores:\n",
        "            try:\n",
        "                if oper==\"+\":\n",
        "                    return(a+b)\n",
        "                elif oper==\"-\":\n",
        "                    return(a-b)\n",
        "                elif oper==\"*\":\n",
        "                    return(a*b)\n",
        "                elif oper==\"/\":\n",
        "                    return(a/b)\n",
        "                elif oper==\"//\":\n",
        "                    return(a//b)\n",
        "                elif oper==\"%\":\n",
        "                    return(a%b)\n",
        "            except:\n",
        "                return(\"Error en la operación\")\n",
        "        else:\n",
        "            return(\"Operador inválido (Operadores válidos: +, -, *, /, //, %) \")\n",
        "    else:\n",
        "        return(\"No introdujo números\")\n",
        "\n",
        "calculadora(6,0,\"/\")"
      ]
    },
    {
      "cell_type": "markdown",
      "metadata": {},
      "source": [
        "***\n",
        "## Laboratorio 3\n",
        "\n",
        "Parte 4 - Convertir este notebook en uno script de python y ejecutarlo\n",
        "\n",
        "***"
      ]
    },
    {
      "cell_type": "code",
      "execution_count": null,
      "metadata": {},
      "outputs": [],
      "source": []
    }
  ],
  "metadata": {
    "colab": {
      "name": "Lab03 - Calculadora sencilla",
      "provenance": []
    },
    "kernelspec": {
      "display_name": "Python 3.9.13 ('ramup_py39')",
      "language": "python",
      "name": "python3"
    },
    "language_info": {
      "codemirror_mode": {
        "name": "ipython",
        "version": 3
      },
      "file_extension": ".py",
      "mimetype": "text/x-python",
      "name": "python",
      "nbconvert_exporter": "python",
      "pygments_lexer": "ipython3",
      "version": "3.9.13"
    },
    "vscode": {
      "interpreter": {
        "hash": "9177f5daf078ab1e95e33a657321734599725505f28e111f642d0c1264527fb4"
      }
    }
  },
  "nbformat": 4,
  "nbformat_minor": 0
}
