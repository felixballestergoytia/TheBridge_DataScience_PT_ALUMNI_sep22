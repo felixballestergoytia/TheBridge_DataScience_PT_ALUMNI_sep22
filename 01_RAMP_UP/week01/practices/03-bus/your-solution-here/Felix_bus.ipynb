{
 "cells": [
  {
   "cell_type": "markdown",
   "metadata": {},
   "source": [
    "# Bus\n",
    "\n",
    "Este bus tiene un sistema de control de subida y bajada de pasajeros para monitorizar el número de ocupantes que lleva y así detectar cuando hay un aforo demasiado alto. \n",
    "\n",
    "En cada parada la subida y bajada de pasajeros se representa por una tupla compuesta por dos números enteros. \n",
    "```\n",
    "bus_stop = (in, out)\n",
    "```\n",
    "La sucesión de paradas se representa con una lista estas tuplas.\n",
    "```\n",
    "stops = [(in1, out1), (in2, out2), (in3, out3), (in4, out4)]\n",
    "```\n",
    "\n",
    "## Objetivos: \n",
    "* listas, tuplas\n",
    "* bucles while/for\n",
    "* mínimo, máximo, longitud\n",
    "* media, desviación estandard\n",
    "\n",
    "## Tareas\n",
    "1. Calcula el número de paradas. \n",
    "2. Asigna a una variable una lista cuyos elementos sean el número de pasajeros en cada parada (in-out), \n",
    "3. Halla el máximo de ocupación del autobús. \n",
    "4. Calcula la media de la ocupación. Y la desviación estandard. \n"
   ]
  },
  {
   "cell_type": "code",
   "execution_count": 3,
   "metadata": {},
   "outputs": [
    {
     "name": "stdout",
     "output_type": "stream",
     "text": [
      "El numero de paradas son:  9\n",
      "El máximo números de pasajeros fue:  14\n",
      "10.0\n",
      "23.0\n",
      "34.0\n",
      "44.0\n",
      "58.0\n",
      "68.0\n",
      "75.0\n",
      "80.0\n",
      "84.0\n",
      "La media de pasajeros fue:  9.333333333333334\n",
      "La desviación típica fue:  0.010291955471539596\n"
     ]
    }
   ],
   "source": [
    "stops = [(10, 0), (4, 1), (3, 5), (3, 4), (5, 1), (1, 5), (5, 8), (4, 6), (2, 3)]\n",
    "\n",
    "# 1. Calcula el número de paradas. \n",
    "\n",
    "# 2. Asigna a una variable una lista cuyos elementos sean el número de pasajeros en \n",
    "# cada parada: Cada elemento depende del elemento previo en la lista + in - out.  \n",
    "\n",
    "# 3. Halla el máximo de ocupación del autobús. \n",
    "\n",
    "# 4. Calcula la media de la ocupación. Y la desviación estandard. \n",
    "\n",
    "# ----------\n",
    "# Programa\n",
    "\n",
    "pasajeros_parada=[]\n",
    "\n",
    "# 1 Número de paradas\n",
    "print(\"El numero de paradas son: \",len(stops))\n",
    "\n",
    "# 2 Variable con número de pasajeros por parada\n",
    "for x in stops:\n",
    "    y=x[0]-x[1]\n",
    "    if len(pasajeros_parada)==0:\n",
    "        pasajeros_parada.append(y)\n",
    "    else:\n",
    "        pasajeros_parada.append(pasajeros_parada[-1]+y)\n",
    "\n",
    "# 3 Máxima ocupación       \n",
    "print(\"El máximo números de pasajeros fue: \", max(pasajeros_parada))\n",
    " \n",
    "# 4 Calculo de la media\n",
    "media=0.0\n",
    "for x in pasajeros_parada:\n",
    "    media=media+x \n",
    "media=(media/(len(pasajeros_parada)))\n",
    "print(\"La media de pasajeros fue: \", media)\n",
    " \n",
    "# 4 Calculo de la desviación típica\n",
    "desv_tip=[]\n",
    "desv_tip_sum=0.0\n",
    "i=0\n",
    "while i < len(pasajeros_parada):   \n",
    "    desv_tip.append((pasajeros_parada[i]-media)**2)\n",
    "    desv_tip_sum=desv_tip_sum+desv_tip[i]\n",
    "    i+=1\n",
    " \n",
    "desv_tip_final=(desv_tip_sum/media)**(-2)\n",
    "print(\"La desviación típica fue: \", desv_tip_final)\n"
   ]
  }
 ],
 "metadata": {
  "kernelspec": {
   "display_name": "Python 3.9.13 ('ramup_py39')",
   "language": "python",
   "name": "python3"
  },
  "language_info": {
   "codemirror_mode": {
    "name": "ipython",
    "version": 3
   },
   "file_extension": ".py",
   "mimetype": "text/x-python",
   "name": "python",
   "nbconvert_exporter": "python",
   "pygments_lexer": "ipython3",
   "version": "3.9.13"
  },
  "vscode": {
   "interpreter": {
    "hash": "9177f5daf078ab1e95e33a657321734599725505f28e111f642d0c1264527fb4"
   }
  }
 },
 "nbformat": 4,
 "nbformat_minor": 2
}
