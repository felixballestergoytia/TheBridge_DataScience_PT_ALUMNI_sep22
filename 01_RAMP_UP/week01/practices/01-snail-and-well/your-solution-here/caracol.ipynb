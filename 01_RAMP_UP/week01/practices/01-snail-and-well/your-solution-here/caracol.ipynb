{
 "cells": [
  {
   "cell_type": "markdown",
   "metadata": {},
   "source": [
    "# 01 - Caracol y el pozo\n",
    "\n",
    "Un caracol cae en el fondo de un pozo de 125 cm. Cada día el caracol sube 30 cm. pero por la noche, mientras duerme, resbala 20 cm debido a que las paredes son húmedas. ¿Cuantos días tarda en escapar del pozo?\n",
    "\n",
    "TIP: https://www.vix.com/es/btg/curiosidades/59215/acertijos-matematicos-el-caracol-en-el-pozo-facil\n",
    "\n",
    "TIP: http://puzzles.nigelcoldwell.co.uk/sixtytwo.htm"
   ]
  },
  {
   "cell_type": "markdown",
   "metadata": {},
   "source": [
    "## Solución"
   ]
  },
  {
   "cell_type": "code",
   "execution_count": 3,
   "metadata": {},
   "outputs": [
    {
     "name": "stdout",
     "output_type": "stream",
     "text": [
      "El caracol ha tardado en subir: 25\n"
     ]
    }
   ],
   "source": [
    "# Asigna los datos del problema a variables con nombres representativos\n",
    "# altura del pozo, avance diario, retroceso nocturno, distancia acumulada\n",
    "\n",
    "# Asigna 0 a la variable que representa la solución\n",
    "\n",
    "# Escribe el código que soluciona el problema\n",
    "\n",
    "# Imprime el resultado con print('Dias =', dias)\n",
    "\n",
    "altura_pozo=125\n",
    "avance_diario=30\n",
    "retroceso_nocturno=25\n",
    "distancia_acumulada=0\n",
    "dias=0\n",
    "\n",
    "while distancia_acumulada<altura_pozo:\n",
    "    distancia_acumulada=distancia_acumulada+avance_diario-retroceso_nocturno\n",
    "    dias+=1\n",
    "\n",
    "print(\"El caracol ha tardado en subir: \" + str(dias))"
   ]
  },
  {
   "cell_type": "markdown",
   "metadata": {},
   "source": [
    "## Objetivos\n",
    "\n",
    "1. Tratamiento de variables\n",
    "2. Uso de bucle **while**\n",
    "3. Uso de condicionales **if-else**\n",
    "4. Imprimir por consola"
   ]
  },
  {
   "cell_type": "markdown",
   "metadata": {},
   "source": [
    "## Bonus\n",
    "La distancia recorrida por el caracol viene ahora definida por una lista. \n",
    "```\n",
    "avance_cm = [30, 21, 33, 77, 44, 45, 23, 45, 12, 34, 55]\n",
    "```\n",
    "¿Cuánto tarda en subir el pozo?\n",
    "¿Cuál es su máximo de desplazamiento en un día? ¿Y su mínimo?\n",
    "¿Cuál es su media de velocidad durante el día?\n",
    "¿Cuál es la desviación típica de su desplazamiento durante el día?"
   ]
  },
  {
   "cell_type": "code",
   "execution_count": 4,
   "metadata": {},
   "outputs": [
    {
     "name": "stdout",
     "output_type": "stream",
     "text": [
      "El caracol ha tardado en subir: 11 días\n",
      "El máximo desplazamiento en un día fue: 52\n",
      "El mínimo desplazamiento en un día fue: -13\n",
      "La media en el desplazamiento por día fue: 13.090909090909092\n",
      "La desviación típica es: 17.159437082600803\n"
     ]
    }
   ],
   "source": [
    "# Asigna los datos del problema a variables con nombres representativos\n",
    "# altura del pozo, avance diario, retroceso nocturno, distancia acumulada\n",
    "\n",
    "# Asigna 0 a la variable que representa la solución\n",
    "\n",
    "# Escribe el código que soluciona el problema\n",
    "\n",
    "# Imprime el resultado con print('Dias =', dias)\n",
    "\n",
    "# ¿Cuál es su máximo de desplazamiento en un día? ¿Y su mínimo?\n",
    "\n",
    "# ¿Cuál es su media de avance?\n",
    "\n",
    "# ¿Cuál es la desviación típica de su desplazamiento durante el día?\n",
    "\n",
    "#Importaciones\n",
    "import numpy\n",
    "import statistics\n",
    "\n",
    "# Variables\n",
    "avance_cm=[30, 21, 33, 77, 44, 45, 23, 45, 12, 34, 55] # Asumo que esto es lo que avanza sin contar el retroceso\n",
    "altura_pozo=125\n",
    "avance_diario=[]\n",
    "retroceso_nocturno=25\n",
    "distancia_acumulada=0\n",
    "dias=0\n",
    "media=0.0\n",
    "desviacion=0.0\n",
    "\n",
    "# Programa\n",
    "while distancia_acumulada<altura_pozo:\n",
    "    avance_diario.append(avance_cm[dias]-retroceso_nocturno)\n",
    "    distancia_acumulada=distancia_acumulada+avance_diario[dias]\n",
    "    if distancia_acumulada < 0: # Si este valor se torna negativo significaría que ha llegado al fondo\n",
    "        distancia_acumulada = 0\n",
    "    dias+=1\n",
    "\n",
    "print(\"El caracol ha tardado en subir: \" + str(dias) + \" días\")\n",
    "print(\"El máximo desplazamiento en un día fue: \" + str(max(avance_diario)))\n",
    "print(\"El mínimo desplazamiento en un día fue: \" + str(min(avance_diario)))\n",
    "media=statistics.mean(avance_diario)\n",
    "print(\"La media en el desplazamiento por día fue: \" + str(media))\n",
    "desviacion=numpy.std(avance_diario)\n",
    "print(\"La desviación típica es: \" + str(desviacion))\n"
   ]
  },
  {
   "cell_type": "markdown",
   "metadata": {},
   "source": [
    "## Bonus 2\n",
    "La distancia recorrida por el caracol de día y retrocedida de noche son aleatorias. \n",
    "\n",
    "¿Cuánto tarda en subir el pozo?\n",
    "¿Cuál es su máximo de desplazamiento en un día? ¿Y su mínimo?\n",
    "¿Cuál es su media de velocidad durante el día?\n",
    "¿Cuál es la desviación típica de su desplazamiento durante el día?"
   ]
  },
  {
   "cell_type": "code",
   "execution_count": 4,
   "metadata": {},
   "outputs": [
    {
     "name": "stdout",
     "output_type": "stream",
     "text": [
      "El pozo tiene una altura de 500 unidades\n",
      "El caracol ha tardado en subir: 167 días\n",
      "El máximo desplazamiento en un día fue: 24\n",
      "El mínimo desplazamiento en un día fue: -18\n",
      "La media en el desplazamiento por día fue: 3.2275449101796405\n",
      "La desviación típica es: 9.103316923104131\n"
     ]
    }
   ],
   "source": [
    "# Asigna los datos del problema a variables con nombres representativos\n",
    "# altura del pozo, avance diario, retroceso nocturno, distancia acumulada\n",
    "\n",
    "# Asigna 0 a la variable que representa la solución\n",
    "\n",
    "# Escribe el código que soluciona el problema\n",
    "\n",
    "# Imprime el resultado con print('Dias =', dias)\n",
    "\n",
    "# ¿Cuál es su máximo de desplazamiento en un día? ¿Y su mínimo?\n",
    "\n",
    "# ¿Cuál es su media de avance?\n",
    "\n",
    "# ¿Cuál es la desviación típica de su desplazamiento durante el día?\n",
    "\n",
    "#Importaciones\n",
    "import random\n",
    "import numpy\n",
    "import statistics\n",
    "\n",
    "# Variables\n",
    "altura_pozo=0\n",
    "avance=[]\n",
    "avance_diario=0\n",
    "retroceso_nocturno=0\n",
    "distancia_acumulada=0\n",
    "dias=0\n",
    "media=0.0\n",
    "desviacion=0.0\n",
    "\n",
    "# Programa\n",
    "altura_pozo = int(input(\"Introduzca la altura que tiene el pozo: \")) # Pido la altura del pozo\n",
    "print(f\"El pozo tiene una altura de {altura_pozo} unidades\")\n",
    "\n",
    "while distancia_acumulada<altura_pozo:\n",
    "    avance_diario=random.randint(0,25)\n",
    "    retroceso_nocturno=random.randint(0,20)\n",
    "    avance.append(avance_diario-retroceso_nocturno)\n",
    "    distancia_acumulada=distancia_acumulada+avance[dias]\n",
    "    if distancia_acumulada < 0: # Si este valor se torna negativo significaría que ha llegado al fondo\n",
    "        distancia_acumulada = 0\n",
    "        avance[dias]=0\n",
    "    dias+=1\n",
    "\n",
    "print(\"El caracol ha tardado en subir: \" + str(dias) + \" días\")\n",
    "print(\"El máximo desplazamiento en un día fue: \" + str(max(avance)))\n",
    "print(\"El mínimo desplazamiento en un día fue: \" + str(min(avance)))\n",
    "media=statistics.mean(avance)\n",
    "print(\"La media en el desplazamiento por día fue: \" + str(media))\n",
    "desviacion=numpy.std(avance)\n",
    "print(\"La desviación típica es: \" + str(desviacion))"
   ]
  }
 ],
 "metadata": {
  "kernelspec": {
   "display_name": "Python 3.9.13 ('ramup_py39')",
   "language": "python",
   "name": "python3"
  },
  "language_info": {
   "codemirror_mode": {
    "name": "ipython",
    "version": 3
   },
   "file_extension": ".py",
   "mimetype": "text/x-python",
   "name": "python",
   "nbconvert_exporter": "python",
   "pygments_lexer": "ipython3",
   "version": "3.9.13"
  },
  "vscode": {
   "interpreter": {
    "hash": "9177f5daf078ab1e95e33a657321734599725505f28e111f642d0c1264527fb4"
   }
  }
 },
 "nbformat": 4,
 "nbformat_minor": 4
}
